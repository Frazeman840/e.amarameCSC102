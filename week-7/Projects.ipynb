{
 "cells": [
  {
   "cell_type": "code",
   "execution_count": 14,
   "id": "dcfc77a0",
   "metadata": {},
   "outputs": [
    {
     "name": "stdout",
     "output_type": "stream",
     "text": [
      "Surname: Adeniran\n",
      "First name: Oluwatamilore\n",
      "Department: Logistics\n",
      "Welcome ADENIRAN Oluwatamilore\n",
      "     S/N           SURNAME     FIRST NAME      DEPARTMENT  Unnamed: 4\n",
      "0    1.0          ADENIRAN  Oluwatamilore       Logistics         NaN\n",
      "1    2.0           ADEWUMI        Ayomide      Accounting         NaN\n",
      "2    3.0       ADOH-AJAGBE          Oshim        Delivery         NaN\n",
      "3    4.0  AGBAKURU- \\NWOGU    Chukwunonye      Accounting         NaN\n",
      "4    5.0         AGBAKWURU     Chiemeziem       Logistics         NaN\n",
      "5    6.0            AKINDE   Oluwatimehin      Accounting         NaN\n",
      "6    7.0            ARNIKA          Osose       Logistics         NaN\n",
      "7    8.0            ATELLY         Daniel        Delivery         NaN\n",
      "8    9.0             AZOGU      Onyekachi        Delivery         NaN\n",
      "9   10.0            BETURE         Shalom        Delivery         NaN\n",
      "10  11.0          CHUKWUMA           Nedi       Logistics         NaN\n",
      "11  12.0               EBI      Stephanie      Accounting         NaN\n",
      "12  13.0            EGBORO          Jason  Administration         NaN\n",
      "13  14.0           EJEDIMU         Edward        Delivery         NaN\n",
      "14  15.0             ELERI            Otu  Administration         NaN\n",
      "15  16.0               EZE     Onyinyechi  Administration         NaN\n",
      "16  17.0           EZEONYE    Makuochukwu       Logistics         NaN\n",
      "17  18.0              GIWA       Moyosore       Logistics         NaN\n",
      "18  19.0              ICHA        Ayonete      Accounting         NaN\n",
      "19  20.0            IKPATI           Eche      Accounting         NaN\n",
      "20  21.0         ILOENYOSI        Michael        Delivery         NaN\n",
      "21  22.0             IYAWE  Oluwadamilola        Delivery         NaN\n",
      "22  23.0           NWOKOLO       Chijindu       Logistics         NaN\n",
      "23  24.0         NWOTOKUBO         Joseph       Logistics         NaN\n",
      "24  25.0          OBASOGIE          Daisy      Accounting         NaN\n",
      "25  26.0              OBI          Samuel      Accounting         NaN\n",
      "26  27.0           OBIALOR          Betha      Accounting         NaN\n",
      "27  28.0           OGBONNA     Boluwatife        Delivery         NaN\n",
      "28  29.0         OIGBOCHIE           Mary        Delivery         NaN\n",
      "29  30.0      OKOCHA-OJEAH        Raphael  Administration         NaN\n",
      "30  31.0             OKOLO         Victor  Administration         NaN\n",
      "31  32.0             OKORO          Derek       Logistics         NaN\n",
      "32  33.0         OLOWOKERE        Akorede      Accounting         NaN\n",
      "33  34.0          OLUBUADE        Rasheed      Accounting         NaN\n",
      "34  35.0           OSEMEKE         Daniel      Accounting         NaN\n",
      "35  36.0             OSSAI   Mary-Cynthia       Logistics         NaN\n",
      "36  37.0             PETER         Owoede       Logistics         NaN\n",
      "37  38.0            QUADRI   Oluwafikunmi        Delivery         NaN\n",
      "38  39.0           UDE-IBE        Uchenna        Delivery         NaN\n",
      "39  40.0              UMEH          Ejike  Administration         NaN\n",
      "40   NaN               NaN            NaN             NaN         NaN\n"
     ]
    }
   ],
   "source": [
    "import csv\n",
    "\n",
    "with open(\"jt-ventures.csv\") as doc:\n",
    "    business = doc.read()\n",
    "    \n",
    "surname = input(\"Surname: \")\n",
    "firstname = input(\"First name: \")\n",
    "department = input(\"Department: \")\n",
    "\n",
    "surname = surname.upper()\n",
    "\n",
    "if ((surname in business ) and (department in business) and (firstname in business)):\n",
    "    print(\"Welcome\", surname,firstname )\n",
    "    \n",
    "    import pandas as pd\n",
    "    df = pd.read_csv(\"jt-ventures.csv\")\n",
    "    print(df)\n",
    "    \n",
    "else:\n",
    "    print (\"No such employee exists\")"
   ]
  },
  {
   "cell_type": "code",
   "execution_count": 9,
   "id": "d6666ab5",
   "metadata": {},
   "outputs": [
    {
     "name": "stdout",
     "output_type": "stream",
     "text": [
      "     S/N           SURNAME     FIRST NAME      DEPARTMENT  Unnamed: 4\n",
      "0    1.0          ADENIRAN  Oluwatamilore       Logistics         NaN\n",
      "1    2.0           ADEWUMI        Ayomide      Accounting         NaN\n",
      "2    3.0       ADOH-AJAGBE          Oshim        Delivery         NaN\n",
      "3    4.0  AGBAKURU- \\NWOGU    Chukwunonye      Accounting         NaN\n",
      "4    5.0         AGBAKWURU     Chiemeziem       Logistics         NaN\n",
      "5    6.0            AKINDE   Oluwatimehin      Accounting         NaN\n",
      "6    7.0            ARNIKA          Osose       Logistics         NaN\n",
      "7    8.0            ATELLY         Daniel        Delivery         NaN\n",
      "8    9.0             AZOGU      Onyekachi        Delivery         NaN\n",
      "9   10.0            BETURE         Shalom        Delivery         NaN\n",
      "10  11.0          CHUKWUMA           Nedi       Logistics         NaN\n",
      "11  12.0               EBI      Stephanie      Accounting         NaN\n",
      "12  13.0            EGBORO          Jason  Administration         NaN\n",
      "13  14.0           EJEDIMU         Edward        Delivery         NaN\n",
      "14  15.0             ELERI            Otu  Administration         NaN\n",
      "15  16.0               EZE     Onyinyechi  Administration         NaN\n",
      "16  17.0           EZEONYE    Makuochukwu       Logistics         NaN\n",
      "17  18.0              GIWA       Moyosore       Logistics         NaN\n",
      "18  19.0              ICHA        Ayonete      Accounting         NaN\n",
      "19  20.0            IKPATI           Eche      Accounting         NaN\n",
      "20  21.0         ILOENYOSI        Michael        Delivery         NaN\n",
      "21  22.0             IYAWE  Oluwadamilola        Delivery         NaN\n",
      "22  23.0           NWOKOLO       Chijindu       Logistics         NaN\n",
      "23  24.0         NWOTOKUBO         Joseph       Logistics         NaN\n",
      "24  25.0          OBASOGIE          Daisy      Accounting         NaN\n",
      "25  26.0              OBI          Samuel      Accounting         NaN\n",
      "26  27.0           OBIALOR          Betha      Accounting         NaN\n",
      "27  28.0           OGBONNA     Boluwatife        Delivery         NaN\n",
      "28  29.0         OIGBOCHIE           Mary        Delivery         NaN\n",
      "29  30.0      OKOCHA-OJEAH        Raphael  Administration         NaN\n",
      "30  31.0             OKOLO         Victor  Administration         NaN\n",
      "31  32.0             OKORO          Derek       Logistics         NaN\n",
      "32  33.0         OLOWOKERE        Akorede      Accounting         NaN\n",
      "33  34.0          OLUBUADE        Rasheed      Accounting         NaN\n",
      "34  35.0           OSEMEKE         Daniel      Accounting         NaN\n",
      "35  36.0             OSSAI   Mary-Cynthia       Logistics         NaN\n",
      "36  37.0             PETER         Owoede       Logistics         NaN\n",
      "37  38.0            QUADRI   Oluwafikunmi        Delivery         NaN\n",
      "38  39.0           UDE-IBE        Uchenna        Delivery         NaN\n",
      "39  40.0              UMEH          Ejike  Administration         NaN\n",
      "40   NaN               NaN            NaN             NaN         NaN\n"
     ]
    }
   ],
   "source": [
    " import pandas as pd\n",
    "df = pd.read_csv(\"jt-ventures.csv\")\n",
    "print(df)"
   ]
  },
  {
   "cell_type": "code",
   "execution_count": 22,
   "id": "487edd4e",
   "metadata": {},
   "outputs": [
    {
     "name": "stdout",
     "output_type": "stream",
     "text": [
      "Location: Ibeju-Lekki\n",
      "Weight(kg): 10\n",
      "Charges are N2000\n"
     ]
    }
   ],
   "source": [
    "Location = input(\"Location: \")\n",
    "Weight = int(input(\"Weight(kg): \" ))\n",
    "\n",
    "if ((Weight>=10) and (Location == \"Ibeju-Lekki\")):\n",
    "    print(\"Charges are N2000\")\n",
    "    \n",
    "elif ((Weight<10) and (Location == \"Ibeju-Lekki\")):\n",
    "    print(\"Charges are N1500\")\n",
    "\n",
    "elif ((Weight<10) and (Location == \"Epe\")):\n",
    "    print(\"Charges are N4000\")\n",
    "    \n",
    "elif ((Weight>=10) and (Location == \"Epe\")):\n",
    "    print(\"Charges are N5000\")\n",
    "    \n",
    "else:\n",
    "    print(\"We don't offer delivery to the location indicated\")"
   ]
  },
  {
   "cell_type": "code",
   "execution_count": null,
   "id": "e2a7a2ff",
   "metadata": {},
   "outputs": [],
   "source": []
  },
  {
   "cell_type": "code",
   "execution_count": null,
   "id": "09487076",
   "metadata": {},
   "outputs": [],
   "source": []
  }
 ],
 "metadata": {
  "kernelspec": {
   "display_name": "Python 3 (ipykernel)",
   "language": "python",
   "name": "python3"
  },
  "language_info": {
   "codemirror_mode": {
    "name": "ipython",
    "version": 3
   },
   "file_extension": ".py",
   "mimetype": "text/x-python",
   "name": "python",
   "nbconvert_exporter": "python",
   "pygments_lexer": "ipython3",
   "version": "3.10.9"
  }
 },
 "nbformat": 4,
 "nbformat_minor": 5
}
