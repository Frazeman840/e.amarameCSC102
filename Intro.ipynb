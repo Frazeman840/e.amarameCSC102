{
 "cells": [
  {
   "cell_type": "code",
   "execution_count": 1,
   "id": "a480e8c6",
   "metadata": {},
   "outputs": [
    {
     "name": "stdout",
     "output_type": "stream",
     "text": [
      "Hello Jay!\n"
     ]
    }
   ],
   "source": [
    "print(\"Hello Jay!\")"
   ]
  },
  {
   "cell_type": "code",
   "execution_count": 1,
   "id": "ed1fffde",
   "metadata": {},
   "outputs": [
    {
     "name": "stdout",
     "output_type": "stream",
     "text": [
      "What's your nameEmmanuel Chukwuka Amarame\n",
      "Hello, Emmanuel Chukwuka Amarame\n"
     ]
    }
   ],
   "source": [
    "person = input(\"What's your name\")\n",
    "print('Hello,', person)"
   ]
  },
  {
   "cell_type": "code",
   "execution_count": 4,
   "id": "df69e55d",
   "metadata": {},
   "outputs": [
    {
     "name": "stdout",
     "output_type": "stream",
     "text": [
      "12\n"
     ]
    }
   ],
   "source": [
    "age = 12\n",
    "print(age)"
   ]
  },
  {
   "cell_type": "code",
   "execution_count": 5,
   "id": "8c9a2997",
   "metadata": {},
   "outputs": [
    {
     "name": "stdout",
     "output_type": "stream",
     "text": [
      "42\n"
     ]
    }
   ],
   "source": [
    "x = 6\n",
    "y = x * 7\n",
    "print(y)"
   ]
  },
  {
   "cell_type": "code",
   "execution_count": 6,
   "id": "1502054b",
   "metadata": {},
   "outputs": [
    {
     "name": "stdout",
     "output_type": "stream",
     "text": [
      "Adele Joe\n"
     ]
    }
   ],
   "source": [
    "name = 'Adele Joe'\n",
    "print(name)"
   ]
  },
  {
   "cell_type": "code",
   "execution_count": 7,
   "id": "a9e1e6b9",
   "metadata": {},
   "outputs": [
    {
     "data": {
      "text/plain": [
       "False"
      ]
     },
     "execution_count": 7,
     "metadata": {},
     "output_type": "execute_result"
    }
   ],
   "source": [
    "mango = 5\n",
    "apple = 3\n",
    "apple > mango"
   ]
  },
  {
   "cell_type": "code",
   "execution_count": 8,
   "id": "3570093e",
   "metadata": {},
   "outputs": [
    {
     "data": {
      "text/plain": [
       "False"
      ]
     },
     "execution_count": 8,
     "metadata": {},
     "output_type": "execute_result"
    }
   ],
   "source": [
    "mango < apple\n"
   ]
  },
  {
   "cell_type": "code",
   "execution_count": 9,
   "id": "aee8ee87",
   "metadata": {},
   "outputs": [
    {
     "data": {
      "text/plain": [
       "False"
      ]
     },
     "execution_count": 9,
     "metadata": {},
     "output_type": "execute_result"
    }
   ],
   "source": [
    "mango == apple\n"
   ]
  },
  {
   "cell_type": "code",
   "execution_count": 10,
   "id": "613ed623",
   "metadata": {},
   "outputs": [
    {
     "name": "stdout",
     "output_type": "stream",
     "text": [
      "Hello Guys\n",
      "How are you all?\n",
      "Welcome to Python Programming\n"
     ]
    }
   ],
   "source": [
    "'''\n",
    "We are writing a simple program here\n",
    "First print statement.\n",
    "This is a multiple line comment.\n",
    "\n",
    "'''\n",
    "\n",
    "print(\"Hello Guys\")\n",
    "\n",
    "#Second print statement\n",
    "print(\"How are you all?\")\n",
    "\n",
    "#Third print statement \n",
    "print(\"Welcome to Python Programming\")"
   ]
  },
  {
   "cell_type": "code",
   "execution_count": 11,
   "id": "c7e0a8cb",
   "metadata": {},
   "outputs": [
    {
     "name": "stdout",
     "output_type": "stream",
     "text": [
      "Three digit number\n"
     ]
    }
   ],
   "source": [
    "num = 100\n",
    "if 9 < num < 99:\n",
    "    \n",
    "        print(\"Two digit number\")\n",
    "    \n",
    "elif 99 < num < 999:\n",
    "    \n",
    "        print(\"Three digit number\")\n",
    "    \n",
    "elif 999 < num < 9999:\n",
    "    \n",
    "        print(\"Four digit number\")\n",
    "    \n",
    "else:\n",
    "        print(\"number is <= 9 or >= 9999 \")\n",
    "        \n",
    "     "
   ]
  },
  {
   "cell_type": "code",
   "execution_count": 12,
   "id": "1c9c33e1",
   "metadata": {},
   "outputs": [
    {
     "name": "stdout",
     "output_type": "stream",
     "text": [
      "number is <= 9 or >= 9999\n"
     ]
    }
   ],
   "source": [
    "if 9 < num < 99:\n",
    "    print(\"Two digit number\")\n",
    "    \n",
    "    if 99 < num < 999:\n",
    "        \n",
    "        print(\"Three digit number\")\n",
    "        \n",
    "        if 999 < num < 9999:\n",
    "            \n",
    "            print(\"four digit number\")\n",
    "            \n",
    "else: \n",
    "    \n",
    "            print(\"number is <= 9 or >= 9999\")"
   ]
  },
  {
   "cell_type": "code",
   "execution_count": 13,
   "id": "9504bfd8",
   "metadata": {},
   "outputs": [
    {
     "name": "stdout",
     "output_type": "stream",
     "text": [
      "Welcome to CSC 102 Introduction to Problem solving\n"
     ]
    }
   ],
   "source": [
    "message = \"Welcome to\"\n",
    "course_code = \"CSC 102\"\n",
    "course_title = \"Introduction to Problem solving\"\n",
    "\n",
    "concat = message+' '+course_code+' '+course_title\n",
    "\n",
    "print(concat)\n"
   ]
  },
  {
   "cell_type": "code",
   "execution_count": null,
   "id": "8dfcc3cf",
   "metadata": {},
   "outputs": [],
   "source": []
  }
 ],
 "metadata": {
  "kernelspec": {
   "display_name": "Python 3 (ipykernel)",
   "language": "python",
   "name": "python3"
  },
  "language_info": {
   "codemirror_mode": {
    "name": "ipython",
    "version": 3
   },
   "file_extension": ".py",
   "mimetype": "text/x-python",
   "name": "python",
   "nbconvert_exporter": "python",
   "pygments_lexer": "ipython3",
   "version": "3.10.9"
  }
 },
 "nbformat": 4,
 "nbformat_minor": 5
}
